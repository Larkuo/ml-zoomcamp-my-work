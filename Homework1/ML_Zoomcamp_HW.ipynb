{
  "nbformat": 4,
  "nbformat_minor": 0,
  "metadata": {
    "colab": {
      "provenance": [],
      "collapsed_sections": [],
      "authorship_tag": "ABX9TyOYxBpsHkC4cycJ23oSGfSI",
      "include_colab_link": true
    },
    "kernelspec": {
      "name": "python3",
      "display_name": "Python 3"
    },
    "language_info": {
      "name": "python"
    }
  },
  "cells": [
    {
      "cell_type": "markdown",
      "metadata": {
        "id": "view-in-github",
        "colab_type": "text"
      },
      "source": [
        "<a href=\"https://colab.research.google.com/github/Larkuo/ml-zoomcamp-my-work/blob/main/Homework1/ML_Zoomcamp_HW.ipynb\" target=\"_parent\"><img src=\"https://colab.research.google.com/assets/colab-badge.svg\" alt=\"Open In Colab\"/></a>"
      ]
    },
    {
      "cell_type": "markdown",
      "source": [
        "### **Homework 1**\n",
        "----\n",
        "10-09-2022\n",
        "\n",
        "[Instructions Here](https://github.com/alexeygrigorev/mlbookcamp-code/blob/master/course-zoomcamp/cohorts/2022/01-intro/homework.md)\n",
        "\n",
        "Small Note: Data File was uploaded to my google drive & used from there"
      ],
      "metadata": {
        "id": "z4XVAT1ylWcw"
      }
    },
    {
      "cell_type": "code",
      "source": [
        "# imports\n",
        "import numpy as np\n",
        "import pandas as pd\n",
        "from google.colab import drive"
      ],
      "metadata": {
        "id": "8RLBZljZloAw"
      },
      "execution_count": 5,
      "outputs": []
    },
    {
      "cell_type": "markdown",
      "source": [
        "Question 1"
      ],
      "metadata": {
        "id": "WEwJi5cxlkYJ"
      }
    },
    {
      "cell_type": "code",
      "source": [
        "np.__version__"
      ],
      "metadata": {
        "colab": {
          "base_uri": "https://localhost:8080/",
          "height": 35
        },
        "id": "tjwlDkw2lj8Y",
        "outputId": "efc5aee2-5792-4065-c9dd-bba523d9ae77"
      },
      "execution_count": 6,
      "outputs": [
        {
          "output_type": "execute_result",
          "data": {
            "text/plain": [
              "'1.21.6'"
            ],
            "application/vnd.google.colaboratory.intrinsic+json": {
              "type": "string"
            }
          },
          "metadata": {},
          "execution_count": 6
        }
      ]
    },
    {
      "cell_type": "markdown",
      "source": [
        "Question 2"
      ],
      "metadata": {
        "id": "pe9m1bsRl-bh"
      }
    },
    {
      "cell_type": "code",
      "source": [
        "drive.mount('/content/drive')"
      ],
      "metadata": {
        "colab": {
          "base_uri": "https://localhost:8080/"
        },
        "id": "6c1zkpfmnGjX",
        "outputId": "ebf3e3ed-8852-4c57-cc86-4f6bd82e0c61"
      },
      "execution_count": 7,
      "outputs": [
        {
          "output_type": "stream",
          "name": "stdout",
          "text": [
            "Mounted at /content/drive\n"
          ]
        }
      ]
    },
    {
      "cell_type": "code",
      "execution_count": 10,
      "metadata": {
        "colab": {
          "base_uri": "https://localhost:8080/"
        },
        "id": "CAE782_llRw7",
        "outputId": "20553b07-4992-40fc-e7b7-6c05f1c7d671"
      },
      "outputs": [
        {
          "output_type": "execute_result",
          "data": {
            "text/plain": [
              "(11914, 16)"
            ]
          },
          "metadata": {},
          "execution_count": 10
        }
      ],
      "source": [
        "data_path = '/content/drive/My Drive/MLZoomcamp2022/HW1/data.csv'\n",
        "data = pd.read_csv(data_path)\n",
        "data.shape"
      ]
    },
    {
      "cell_type": "markdown",
      "source": [
        "Question 3"
      ],
      "metadata": {
        "id": "gdBuSKYkonbj"
      }
    },
    {
      "cell_type": "code",
      "source": [
        "make_counts = data['Make'].value_counts(ascending=False)\n",
        "make_counts[0:3]"
      ],
      "metadata": {
        "colab": {
          "base_uri": "https://localhost:8080/"
        },
        "id": "yd55Qo02owvx",
        "outputId": "e1af849c-6f3a-4e8e-80b0-a9074643b268"
      },
      "execution_count": 17,
      "outputs": [
        {
          "output_type": "execute_result",
          "data": {
            "text/plain": [
              "Chevrolet     1123\n",
              "Ford           881\n",
              "Volkswagen     809\n",
              "Name: Make, dtype: int64"
            ]
          },
          "metadata": {},
          "execution_count": 17
        }
      ]
    },
    {
      "cell_type": "markdown",
      "source": [
        "Question 4"
      ],
      "metadata": {
        "id": "rvNf6J7HopIB"
      }
    },
    {
      "cell_type": "code",
      "source": [
        "audi_df = data[data['Make'] == 'Audi']\n",
        "audi_models = audi_df['Model'].value_counts()\n",
        "len(audi_models)"
      ],
      "metadata": {
        "colab": {
          "base_uri": "https://localhost:8080/"
        },
        "id": "g87QPvGeqG6g",
        "outputId": "fb013824-8fe2-4301-86f4-425c0ae5c8cc"
      },
      "execution_count": 19,
      "outputs": [
        {
          "output_type": "execute_result",
          "data": {
            "text/plain": [
              "34"
            ]
          },
          "metadata": {},
          "execution_count": 19
        }
      ]
    },
    {
      "cell_type": "markdown",
      "source": [
        "Question 5"
      ],
      "metadata": {
        "id": "2DeilhdHorhq"
      }
    },
    {
      "cell_type": "code",
      "source": [
        "null_sum = data.isnull().sum()\n",
        "nulls = null_sum[null_sum != 0]\n",
        "nulls, len(nulls)"
      ],
      "metadata": {
        "colab": {
          "base_uri": "https://localhost:8080/"
        },
        "id": "-bsHyX7Squ7L",
        "outputId": "4db19676-05ca-4f61-c603-4daa7776a519"
      },
      "execution_count": 25,
      "outputs": [
        {
          "output_type": "execute_result",
          "data": {
            "text/plain": [
              "(Engine Fuel Type       3\n",
              " Engine HP             69\n",
              " Engine Cylinders      30\n",
              " Number of Doors        6\n",
              " Market Category     3742\n",
              " dtype: int64, 5)"
            ]
          },
          "metadata": {},
          "execution_count": 25
        }
      ]
    },
    {
      "cell_type": "markdown",
      "source": [
        "Question 6"
      ],
      "metadata": {
        "id": "bUIMCgXQoswp"
      }
    },
    {
      "cell_type": "code",
      "source": [
        "engine_cylinders = data['Engine Cylinders'].median()\n",
        "print('Median before fillna', engine_cylinders)\n",
        "\n",
        "engine_cylinders = data['Engine Cylinders'].fillna(data['Engine Cylinders'].mode())\n",
        "print('Median after fillna', engine_cylinders.median())"
      ],
      "metadata": {
        "colab": {
          "base_uri": "https://localhost:8080/"
        },
        "id": "y0461NTssD6j",
        "outputId": "0012dbfc-d54d-4388-ca36-5277f3ea915c"
      },
      "execution_count": 30,
      "outputs": [
        {
          "output_type": "stream",
          "name": "stdout",
          "text": [
            "Median before fillna 6.0\n",
            "Median after fillna 6.0\n"
          ]
        }
      ]
    },
    {
      "cell_type": "markdown",
      "source": [
        "Question 7"
      ],
      "metadata": {
        "id": "Tg5TTXQCouVv"
      }
    },
    {
      "cell_type": "code",
      "source": [
        "df_lotus = data[data['Make'] == 'Lotus']\n",
        "cols = df_lotus[['Engine HP', 'Engine Cylinders']].drop_duplicates()\n",
        "# ---------------------------------------------------\n",
        "X = cols.to_numpy()\n",
        "XTX = X.T.dot(X)\n",
        "# ---------------------------------------------------\n",
        "y = [1100, 800, 750, 850, 1300, 1000, 1000, 1300, 800]\n",
        "XTXI = np.linalg.inv(XTX)\n",
        "w = XTXI.dot(X.T).dot(y)\n",
        "w"
      ],
      "metadata": {
        "colab": {
          "base_uri": "https://localhost:8080/"
        },
        "id": "dJPq9czrtK9h",
        "outputId": "4fca8ab4-15db-4f98-ab38-94f7e3369226"
      },
      "execution_count": 50,
      "outputs": [
        {
          "output_type": "execute_result",
          "data": {
            "text/plain": [
              "array([  4.59494481, -63.56432501])"
            ]
          },
          "metadata": {},
          "execution_count": 50
        }
      ]
    }
  ]
}