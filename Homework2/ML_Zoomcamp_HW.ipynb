{
  "cells": [],
  "metadata": {
    "colab": {
      "authorship_tag": "ABX9TyOYxBpsHkC4cycJ23oSGfSI",
      "collapsed_sections": [],
      "include_colab_link": true,
      "provenance": []
    },
    "kernelspec": {
      "display_name": "Python 3.10.6 64-bit",
      "language": "python",
      "name": "python3"
    },
    "language_info": {
      "name": "python",
      "version": "3.10.6"
    },
    "vscode": {
      "interpreter": {
        "hash": "2f4cd499b16f0916be76f50cbca23150931219da81c6251db5e35ac0baa4fe4e"
      }
    }
  },
  "nbformat": 4,
  "nbformat_minor": 0
}
